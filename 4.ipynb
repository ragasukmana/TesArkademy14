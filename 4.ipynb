{
  "nbformat": 4,
  "nbformat_minor": 0,
  "metadata": {
    "colab": {
      "name": "4.ipynb",
      "provenance": [],
      "collapsed_sections": [],
      "include_colab_link": true
    },
    "kernelspec": {
      "name": "python3",
      "display_name": "Python 3"
    }
  },
  "cells": [
    {
      "cell_type": "markdown",
      "metadata": {
        "id": "view-in-github",
        "colab_type": "text"
      },
      "source": [
        "<a href=\"https://colab.research.google.com/github/ragasukmana/arkademy14kloter2/blob/master/4.ipynb\" target=\"_parent\"><img src=\"https://colab.research.google.com/assets/colab-badge.svg\" alt=\"Open In Colab\"/></a>"
      ]
    },
    {
      "cell_type": "code",
      "metadata": {
        "id": "XyaThTiM4A4C",
        "colab_type": "code",
        "colab": {}
      },
      "source": [
        "import re"
      ],
      "execution_count": 0,
      "outputs": []
    },
    {
      "cell_type": "code",
      "metadata": {
        "id": "A36uxrjo4jn6",
        "colab_type": "code",
        "colab": {
          "base_uri": "https://localhost:8080/",
          "height": 68
        },
        "outputId": "b3450723-eaa0-4508-cf2f-caf5929eecba"
      },
      "source": [
        "a = input(\"kata :\")\n",
        "\n",
        "def checker() :\n",
        "    if re.search(\"[A-Z]+\" ,a):\n",
        "      print(\"Palindrom Kapital\")\n",
        "    if re.search(\"[A-Z]+.[a-z]+\", a):\n",
        "      print(\"palindrom mix\")\n",
        "\n",
        "checker()"
      ],
      "execution_count": 31,
      "outputs": [
        {
          "output_type": "stream",
          "text": [
            "kata :mmmmmAAAALLLMMMm\n",
            "Palindrom Kapital\n",
            "palindrom mix\n"
          ],
          "name": "stdout"
        }
      ]
    }
  ]
}