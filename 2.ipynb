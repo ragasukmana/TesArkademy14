{
  "nbformat": 4,
  "nbformat_minor": 0,
  "metadata": {
    "colab": {
      "name": "2.ipynb",
      "provenance": [],
      "collapsed_sections": [],
      "include_colab_link": true
    },
    "kernelspec": {
      "name": "python3",
      "display_name": "Python 3"
    }
  },
  "cells": [
    {
      "cell_type": "markdown",
      "metadata": {
        "id": "view-in-github",
        "colab_type": "text"
      },
      "source": [
        "<a href=\"https://colab.research.google.com/github/ragasukmana/arkademy14kloter2/blob/master/2.ipynb\" target=\"_parent\"><img src=\"https://colab.research.google.com/assets/colab-badge.svg\" alt=\"Open In Colab\"/></a>"
      ]
    },
    {
      "cell_type": "code",
      "metadata": {
        "id": "fppDU5zyLLSX",
        "colab_type": "code",
        "colab": {}
      },
      "source": [
        "import re"
      ],
      "execution_count": 0,
      "outputs": []
    },
    {
      "cell_type": "code",
      "metadata": {
        "id": "Uqh-G7Z9LQe9",
        "colab_type": "code",
        "outputId": "a78f68d5-c867-49b9-b386-0bbcee12afb8",
        "colab": {
          "base_uri": "https://localhost:8080/",
          "height": 153
        }
      },
      "source": [
        "def email():\n",
        "  while True:\n",
        "    a=input(\"masukkan email :\")\n",
        "    if not re.search(\"^[0-9]\" ,a):\n",
        "      print(\"didepan harus angka\")\n",
        "      continue\n",
        "    elif not re.search(\"[@]{1,}\", a):\n",
        "      print(\"email not valid\")\n",
        "      continue\n",
        "    elif not re.search(\"(.com)$\", a):\n",
        "      print(\"email not valid\")\n",
        "      continue\n",
        "    else :\n",
        "      print(\"email berhasil dibuat\")\n",
        "      break\n",
        "  \n",
        "email()"
      ],
      "execution_count": 23,
      "outputs": [
        {
          "output_type": "stream",
          "text": [
            "masukkan email :dara\n",
            "didepan harus angka\n",
            "masukkan email :3dara\n",
            "email not valid\n",
            "masukkan email :3dara@\n",
            "email not valid\n",
            "masukkan email :3dara@gmail.com\n",
            "email berhasil dibuat\n"
          ],
          "name": "stdout"
        }
      ]
    },
    {
      "cell_type": "code",
      "metadata": {
        "id": "994tTP8_Rq2U",
        "colab_type": "code",
        "colab": {
          "base_uri": "https://localhost:8080/",
          "height": 153
        },
        "outputId": "0daeb439-c908-4561-d80e-ccd2d7cbba12"
      },
      "source": [
        "def password():\n",
        "  while True:\n",
        "    b=input(\"masukkan password :\")\n",
        "    if len(b) < 9 :\n",
        "      print(\"minimal 9 karakter\")\n",
        "      continue\n",
        "    elif not re.findall(\"[0-9]{2}\", b):\n",
        "      print(\"minimal 2 angka\")\n",
        "      continue\n",
        "    elif not re.findall(\"[A-Z]|[a-z]{5,}\",b):\n",
        "      print(\"minimal 5 huruf\")\n",
        "      continue\n",
        "    elif not re.findall(\"[!@#$%^&*]+\",b):\n",
        "      print(\"minimal 2 simbol\")\n",
        "      continue\n",
        "    else:\n",
        "      print(\"password diterima\")\n",
        "      break\n",
        "\n",
        "password()"
      ],
      "execution_count": 24,
      "outputs": [
        {
          "output_type": "stream",
          "text": [
            "masukkan password :wor\n",
            "minimal 9 karakter\n",
            "masukkan password :words9999\n",
            "minimal 2 simbol\n",
            "masukkan password :wor41921@!\n",
            "minimal 5 huruf\n",
            "masukkan password :#words99!\n",
            "password diterima\n"
          ],
          "name": "stdout"
        }
      ]
    }
  ]
}