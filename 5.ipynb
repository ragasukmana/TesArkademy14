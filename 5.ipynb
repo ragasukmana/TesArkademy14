{
  "nbformat": 4,
  "nbformat_minor": 0,
  "metadata": {
    "colab": {
      "name": "5.ipynb",
      "provenance": [],
      "collapsed_sections": [],
      "include_colab_link": true
    },
    "kernelspec": {
      "name": "python3",
      "display_name": "Python 3"
    }
  },
  "cells": [
    {
      "cell_type": "markdown",
      "metadata": {
        "id": "view-in-github",
        "colab_type": "text"
      },
      "source": [
        "<a href=\"https://colab.research.google.com/github/ragasukmana/arkademy14kloter2/blob/master/5.ipynb\" target=\"_parent\"><img src=\"https://colab.research.google.com/assets/colab-badge.svg\" alt=\"Open In Colab\"/></a>"
      ]
    },
    {
      "cell_type": "code",
      "metadata": {
        "id": "thXxLbNT6iRt",
        "colab_type": "code",
        "colab": {
          "base_uri": "https://localhost:8080/",
          "height": 68
        },
        "outputId": "588c3937-907d-4f9f-e2cc-4e7040f1b31b"
      },
      "source": [
        "a=input(\"masukan kalimat :\")\n",
        "sub= input(\"kata yang hitung:\")\n",
        "\n",
        "count = a.count(sub)\n",
        "\n",
        "print(\"The count is:\", count)"
      ],
      "execution_count": 4,
      "outputs": [
        {
          "output_type": "stream",
          "text": [
            "masukan kalimat :peace!\n",
            "kata yang hitung:!\n",
            "The count is: 1\n"
          ],
          "name": "stdout"
        }
      ]
    }
  ]
}