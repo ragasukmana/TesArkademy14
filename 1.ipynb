{
  "nbformat": 4,
  "nbformat_minor": 0,
  "metadata": {
    "colab": {
      "name": "1.ipynb",
      "provenance": [],
      "include_colab_link": true
    },
    "kernelspec": {
      "name": "python3",
      "display_name": "Python 3"
    }
  },
  "cells": [
    {
      "cell_type": "markdown",
      "metadata": {
        "id": "view-in-github",
        "colab_type": "text"
      },
      "source": [
        "<a href=\"https://colab.research.google.com/github/ragasukmana/arkademy14kloter2/blob/master/1.ipynb\" target=\"_parent\"><img src=\"https://colab.research.google.com/assets/colab-badge.svg\" alt=\"Open In Colab\"/></a>"
      ]
    },
    {
      "cell_type": "code",
      "metadata": {
        "id": "QxRlWESlILI3",
        "colab_type": "code",
        "colab": {}
      },
      "source": [
        "import json"
      ],
      "execution_count": 0,
      "outputs": []
    },
    {
      "cell_type": "code",
      "metadata": {
        "id": "vSpnFsTTIxAe",
        "colab_type": "code",
        "colab": {}
      },
      "source": [
        "bio_dict = {\"name\" : \"Raga Sukmana\", \"age\" : 22, \"address\" : \"Perum korpri\",\n",
        "              \"Hobbies\":[\"Gaming, Editing\"], \"is_married\" : False, \n",
        "              \"interest in coding\" : True }\n",
        "\n",
        "list_school = { \n",
        "            \"Name\" : 'Telkom University', \"years in\" : 2015,\n",
        "            \"years out\" : 2019, \"Major\" : \"Industrial Engineering\" }\n",
        "            \n",
        "skill = {\n",
        "      \"name software\" : \"photoshop\",\n",
        "      \"level\" : \"advanced\",\n",
        "      \"name\" : \"Ms. Office\",\n",
        "      \"level\" : \"Expert\"}"
      ],
      "execution_count": 0,
      "outputs": []
    },
    {
      "cell_type": "code",
      "metadata": {
        "id": "chR2uO1oJJPQ",
        "colab_type": "code",
        "colab": {}
      },
      "source": [
        "bio_json = json.dumps(bio_dict)\n",
        "school_json = json.dumps(list_school)\n",
        "skill_json = json.dumps(skill)"
      ],
      "execution_count": 0,
      "outputs": []
    },
    {
      "cell_type": "code",
      "metadata": {
        "id": "OLAcEjceK3CY",
        "colab_type": "code",
        "colab": {
          "base_uri": "https://localhost:8080/",
          "height": 88
        },
        "outputId": "78e6887d-32ec-4336-f832-806a309d77a6"
      },
      "source": [
        "#OUTPUT\n",
        "print(bio_json)\n",
        "print(school_json)\n",
        "print(skill_json)"
      ],
      "execution_count": 15,
      "outputs": [
        {
          "output_type": "stream",
          "text": [
            "{\"name\": \"Raga Sukmana\", \"age\": 22, \"address\": \"Perum korpri\", \"Hobbies\": [\"Gaming, Editing\"], \"is_married\": false, \"interest in coding\": true}\n",
            "{\"Name\": \"Telkom University\", \"years in\": 2015, \"years out\": 2019, \"Major\": \"Industrial Engineering\"}\n",
            "{\"name software\": \"photoshop\", \"level\": \"Expert\", \"name\": \"Ms. Office\"}\n"
          ],
          "name": "stdout"
        }
      ]
    }
  ]
}
