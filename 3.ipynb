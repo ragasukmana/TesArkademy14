{
  "nbformat": 4,
  "nbformat_minor": 0,
  "metadata": {
    "colab": {
      "name": "3.ipynb",
      "provenance": [],
      "collapsed_sections": [],
      "include_colab_link": true
    },
    "kernelspec": {
      "name": "python3",
      "display_name": "Python 3"
    }
  },
  "cells": [
    {
      "cell_type": "markdown",
      "metadata": {
        "id": "view-in-github",
        "colab_type": "text"
      },
      "source": [
        "<a href=\"https://colab.research.google.com/github/ragasukmana/arkademy14kloter2/blob/master/3.ipynb\" target=\"_parent\"><img src=\"https://colab.research.google.com/assets/colab-badge.svg\" alt=\"Open In Colab\"/></a>"
      ]
    },
    {
      "cell_type": "code",
      "metadata": {
        "id": "_irLzXqbn3HM",
        "colab_type": "code",
        "colab": {
          "base_uri": "https://localhost:8080/",
          "height": 51
        },
        "outputId": "38853658-8f11-4314-a207-8ffc1da44bde"
      },
      "source": [
        "def validasi():\n",
        "  while True:\n",
        "    a=str(input(\"masukan code color :\"))\n",
        "    if (len(a) != (3 or 6)) and not int:\n",
        "      print(\"hex salah digit\")\n",
        "      continue\n",
        "    elif a[0] != (\"#\"):\n",
        "      print(\"hex salah #\")\n",
        "      continue\n",
        "    else:\n",
        "      print(\"hex benar\")\n",
        "      break\n",
        "\n",
        "validasi()"
      ],
      "execution_count": 105,
      "outputs": [
        {
          "output_type": "stream",
          "text": [
            "masukan code color :#FFF\n",
            "hex benar\n"
          ],
          "name": "stdout"
        }
      ]
    }
  ]
}